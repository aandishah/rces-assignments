{
 "cells": [
  {
   "cell_type": "code",
   "execution_count": null,
   "id": "5c04e1b8-bdcf-46d5-9540-eedb40bcec68",
   "metadata": {},
   "outputs": [],
   "source": [
    "# Part 1:  Lists and Loops"
   ]
  },
  {
   "cell_type": "code",
   "execution_count": null,
   "id": "86d02216-3258-4aef-b32e-4f611a1c1605",
   "metadata": {},
   "outputs": [],
   "source": [
    "#Q1.1 Create a list with the names of every planet in the solar system (in order)\n",
    "\n",
    "planets = ['Mercury', 'Venus', 'Earth', 'Mars', 'Jupiter', 'Saturn', 'Uranus', 'Neptune']\n",
    "print(planets)"
   ]
  },
  {
   "cell_type": "code",
   "execution_count": null,
   "id": "18c2e409-db07-4047-872f-8458639d4098",
   "metadata": {},
   "outputs": [],
   "source": [
    "#Q1.2 Have Python tell you how many planets there are by examining your list\n",
    "\n",
    "len(planets)"
   ]
  },
  {
   "cell_type": "code",
   "execution_count": null,
   "id": "9232a889-6b66-4e2c-93b0-a482d452d56f",
   "metadata": {},
   "outputs": [],
   "source": [
    "#Q1.3 Use slicing to display the first four planets (the rocky planets)\n",
    "\n",
    "rocky_planets = planets[0:4]\n",
    "print(rocky_planets)"
   ]
  },
  {
   "cell_type": "code",
   "execution_count": null,
   "id": "d0845bf2-a947-4b11-9b58-f5e96635eebd",
   "metadata": {},
   "outputs": [],
   "source": [
    "#Q1.4 Iterate through your planets and print the planet name only if it has an s at the end\n",
    "\n",
    "for i in planets:\n",
    "    if i.endswith('s'):\n",
    "        print(i)"
   ]
  },
  {
   "cell_type": "code",
   "execution_count": null,
   "id": "670850cf-8c0c-4202-a7fc-b644278094b1",
   "metadata": {},
   "outputs": [],
   "source": [
    "# Part II: Dictionaries"
   ]
  },
  {
   "cell_type": "code",
   "execution_count": null,
   "id": "0378027e-4b95-45dd-a0ed-aab90fc1d0cc",
   "metadata": {},
   "outputs": [],
   "source": [
    "#Q2.1 Create a dictionary that maps each planet name to its mass\n",
    "\n",
    "# Mass (10^24kg)\n",
    "planet_info = { 'Mercury': 0.330, \n",
    "               'Venus': 4.87,\n",
    "               'Earth': 5.97,\n",
    "               'Mars':  0.642,\n",
    "               'Jupiter': 1898,\n",
    "               'Saturn': 568,\n",
    "               'Uranus': 86.8,\n",
    "               'Neptune': 102}\n",
    "print(\"Earth's Mass =\", planet_info['Earth'])"
   ]
  },
  {
   "cell_type": "code",
   "execution_count": null,
   "id": "46d204e5-9b61-43e4-a667-635a077293e8",
   "metadata": {},
   "outputs": [],
   "source": [
    "#Q2.2 Loop through the data and create a list of planets whose mast is greater than 100 x 10^24 kg\n",
    "for k in planet_info:\n",
    "    if planet_info[k] > 100:\n",
    "        print(k)"
   ]
  },
  {
   "cell_type": "code",
   "execution_count": null,
   "id": "b3ffbed3-de7d-4e31-a8b2-59d5529aa47d",
   "metadata": {},
   "outputs": [],
   "source": [
    "# Q2.3 Now add pluto to your dictionary\n",
    "\n",
    "planet_info['Pluto'] = (0.0130)\n",
    "print(\"Dictionary with Pluto =\", planet_info)"
   ]
  },
  {
   "cell_type": "code",
   "execution_count": null,
   "id": "d98c96d1-f298-4be7-9949-f5298737ccb7",
   "metadata": {},
   "outputs": [],
   "source": [
    "# Part III: Functions"
   ]
  },
  {
   "cell_type": "code",
   "execution_count": null,
   "id": "33e59f67-770f-422c-a83d-e26553473322",
   "metadata": {},
   "outputs": [],
   "source": [
    "#Q3.1 Write a function to convert temperature from kelvin to celsius and celsius to kelvin\n",
    "#a) kelvin to celsius\n",
    "def kelvin2celsius():\n",
    "    k2c =  float(input(\"Enter temperature in Kelvin: \"))\n",
    "    celsius = k2c - 273.15\n",
    "    print(\"The temperature in Celsius:\", celsius)\n",
    "x1 = 273.15\n",
    "kelvin2celsius(273.15)"
   ]
  },
  {
   "cell_type": "code",
   "execution_count": null,
   "id": "35dbb200-3588-4418-8b2f-94fc62d3397e",
   "metadata": {},
   "outputs": [],
   "source": [
    "#b) celsius to kelvin\n",
    "def celsius2kelvin():\n",
    "    c2k =  float(input(\"Enter temperature in Celsius: \"))\n",
    "    kelvin = c2k + 273.15\n",
    "    print(\"The temperature in Kelvin:\", kelvin)\n",
    "celsius2kelvin()"
   ]
  },
  {
   "cell_type": "code",
   "execution_count": null,
   "id": "34006691-60b0-4134-ae3d-a1878e7b28e4",
   "metadata": {},
   "outputs": [],
   "source": [
    "#3.2 Write a function to convert temperature to fahrenheit\n",
    "def celsius2fahrenheit():\n",
    "    c2f =  float(input(\"Enter temperature in Celsius: \"))\n",
    "    fahrenheit = (c2f * 9/5) + 32\n",
    "    print(\"The temperature in Fahrenheit:\", fahrenheit)\n",
    "celsius2fahrenheit()"
   ]
  },
  {
   "cell_type": "code",
   "execution_count": null,
   "id": "d89a400d-360c-40ee-81be-f6d0b37f03fe",
   "metadata": {},
   "outputs": [],
   "source": [
    "#3.3 Check that the outputs are sensible\n",
    "\n",
    "#Example 1\n",
    "kelvin2celsius()\n",
    "celsius2kelvin()\n",
    "celsius2fahrenheit()"
   ]
  },
  {
   "cell_type": "code",
   "execution_count": null,
   "id": "72ec7d8a-7d5b-455b-95c6-05227435e6e4",
   "metadata": {},
   "outputs": [],
   "source": [
    "#Example 2\n",
    "kelvin2celsius()\n",
    "celsius2kelvin()\n",
    "celsius2fahrenheit()"
   ]
  },
  {
   "cell_type": "code",
   "execution_count": null,
   "id": "cab207ca-5cc8-453c-9987-e8c86f6eaf4b",
   "metadata": {},
   "outputs": [],
   "source": [
    "#Example 3\n",
    "kelvin2celsius()\n",
    "celsius2kelvin()\n",
    "celsius2fahrenheit()"
   ]
  },
  {
   "cell_type": "code",
   "execution_count": null,
   "id": "6db702ef-2a1d-462f-ae9b-ba0930200ac9",
   "metadata": {},
   "outputs": [],
   "source": [
    "#3.4 Now write a function that converts from farenheit\n",
    "f2c =  float(input(\"Enter temperature in fahrenheit: \"))\n",
    "celsius2 = (f2c - 32) * (5/9)\n",
    "print(\"The temperature in Celsius:\", round(celsius2,2))"
   ]
  },
  {
   "cell_type": "code",
   "execution_count": null,
   "id": "48383fb6-b953-4448-88d5-767adc409def",
   "metadata": {},
   "outputs": [],
   "source": [
    "#3.5 5) Write a function that takes two arguments (feet and inches) and returns height in meters\n",
    "def height_in_meters():\n",
    "    print(\"Input Height: \")\n",
    "    h_ft = float(input(\"Feet: \"))\n",
    "    h_inch = float(input(\"Inches: \"))\n",
    "    h_m = (h_ft * 0.3048) + (h_inch * 0.0254)\n",
    "    print(\"Height(Meters):\", round(h_m, 2))\n",
    "\n",
    "height_in_meters()"
   ]
  },
  {
   "cell_type": "code",
   "execution_count": null,
   "id": "6f792eed-fb03-4f4c-9eaa-2f0bec2e9304",
   "metadata": {},
   "outputs": [],
   "source": [
    "#3.6 Write a function takes one argument (height in meters) and returns two arguments (feet and inches)\n",
    "\n",
    "def height_in_ft_inch():\n",
    "    print(\"Input Height: \")\n",
    "    h_meter = float(input(\"Meters: \"))\n",
    "    #Convert meters to inch\n",
    "    h_length = (h_meter * 39.3701)\n",
    "    h_ft2 = round(h_length / 12)\n",
    "    h_in2 = h_length - (h_ft2 * 12)\n",
    "    print(\"Height:\", round(h_ft2), \"ft\", round(h_in2), \"in\")\n",
    "\n",
    "height_in_ft_inch()                   "
   ]
  },
  {
   "cell_type": "code",
   "execution_count": null,
   "id": "6a396f05-8f38-4481-88d4-c2ab5043f8a9",
   "metadata": {},
   "outputs": [],
   "source": [
    "#3.7 Verify that the “round trip” conversion from and back to meters is consistent\n",
    " #Example 1\n",
    "height_in_meters()\n",
    "height_in_ft_inch()"
   ]
  },
  {
   "cell_type": "code",
   "execution_count": null,
   "id": "73874fee-cf55-4b79-9cf9-4213b70dc604",
   "metadata": {},
   "outputs": [],
   "source": [
    " #Example 2\n",
    "height_in_meters()\n",
    "height_in_ft_inch()"
   ]
  },
  {
   "cell_type": "code",
   "execution_count": null,
   "id": "590438e4-3601-4949-850e-8dc15e982728",
   "metadata": {},
   "outputs": [],
   "source": [
    " #Example 3\n",
    "height_in_meters()\n",
    "height_in_ft_inch()"
   ]
  }
 ],
 "metadata": {
  "kernelspec": {
   "display_name": "Python 3 (ipykernel)",
   "language": "python",
   "name": "python3"
  },
  "language_info": {
   "codemirror_mode": {
    "name": "ipython",
    "version": 3
   },
   "file_extension": ".py",
   "mimetype": "text/x-python",
   "name": "python",
   "nbconvert_exporter": "python",
   "pygments_lexer": "ipython3",
   "version": "3.9.13"
  }
 },
 "nbformat": 4,
 "nbformat_minor": 5
}
