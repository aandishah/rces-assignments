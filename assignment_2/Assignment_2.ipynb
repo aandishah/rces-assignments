{
 "cells": [
  {
   "cell_type": "code",
   "execution_count": 1,
   "id": "5c04e1b8-bdcf-46d5-9540-eedb40bcec68",
   "metadata": {},
   "outputs": [],
   "source": [
    "# Part 1:  Lists and Loops"
   ]
  },
  {
   "cell_type": "code",
   "execution_count": 12,
   "id": "86d02216-3258-4aef-b32e-4f611a1c1605",
   "metadata": {},
   "outputs": [
    {
     "name": "stdout",
     "output_type": "stream",
     "text": [
      "['Mercury', 'Venus', 'Earth', 'Mars', 'Jupiter', 'Saturn', 'Uranus', 'Neptune']\n"
     ]
    }
   ],
   "source": [
    "#Q1.1 Create a list with the names of every planet in the solar system (in order)\n",
    "\n",
    "planets = ['Mercury', 'Venus', 'Earth', 'Mars', 'Jupiter', 'Saturn', 'Uranus', 'Neptune']\n",
    "print(planets)"
   ]
  },
  {
   "cell_type": "code",
   "execution_count": 3,
   "id": "18c2e409-db07-4047-872f-8458639d4098",
   "metadata": {},
   "outputs": [
    {
     "data": {
      "text/plain": [
       "8"
      ]
     },
     "execution_count": 3,
     "metadata": {},
     "output_type": "execute_result"
    }
   ],
   "source": [
    "#Q1.2 Have Python tell you how many planets there are by examining your list\n",
    "\n",
    "len(planets)"
   ]
  },
  {
   "cell_type": "code",
   "execution_count": 13,
   "id": "9232a889-6b66-4e2c-93b0-a482d452d56f",
   "metadata": {},
   "outputs": [
    {
     "name": "stdout",
     "output_type": "stream",
     "text": [
      "['Mercury', 'Venus', 'Earth', 'Mars']\n"
     ]
    }
   ],
   "source": [
    "#Q1.3 Use slicing to display the first four planets (the rocky planets)\n",
    "\n",
    "rocky_planets = planets[0:4]\n",
    "print(rocky_planets)"
   ]
  },
  {
   "cell_type": "code",
   "execution_count": 5,
   "id": "d0845bf2-a947-4b11-9b58-f5e96635eebd",
   "metadata": {},
   "outputs": [
    {
     "name": "stdout",
     "output_type": "stream",
     "text": [
      "Venus\n",
      "Mars\n",
      "Uranus\n"
     ]
    }
   ],
   "source": [
    "#Q1.4 Iterate through your planets and print the planet name only if it has an s at the end\n",
    "\n",
    "for i in planets:\n",
    "    if i.endswith('s'):\n",
    "        print(i)"
   ]
  },
  {
   "cell_type": "code",
   "execution_count": 6,
   "id": "670850cf-8c0c-4202-a7fc-b644278094b1",
   "metadata": {},
   "outputs": [],
   "source": [
    "# Part II: Dictionaries"
   ]
  },
  {
   "cell_type": "code",
   "execution_count": 7,
   "id": "0378027e-4b95-45dd-a0ed-aab90fc1d0cc",
   "metadata": {},
   "outputs": [
    {
     "name": "stdout",
     "output_type": "stream",
     "text": [
      "Earth's Mass = 5.97\n"
     ]
    }
   ],
   "source": [
    "#Q2.1 Create a dictionary that maps each planet name to its mass\n",
    "\n",
    "# Mass (10^24kg)\n",
    "planet_info = { 'Mercury': 0.330, \n",
    "               'Venus': 4.87,\n",
    "               'Earth': 5.97,\n",
    "               'Mars':  0.642,\n",
    "               'Jupiter': 1898,\n",
    "               'Saturn': 568,\n",
    "               'Uranus': 86.8,\n",
    "               'Neptune': 102}\n",
    "print(\"Earth's Mass =\", planet_info['Earth'])"
   ]
  },
  {
   "cell_type": "code",
   "execution_count": 8,
   "id": "46d204e5-9b61-43e4-a667-635a077293e8",
   "metadata": {},
   "outputs": [
    {
     "name": "stdout",
     "output_type": "stream",
     "text": [
      "Jupiter\n",
      "Saturn\n",
      "Neptune\n"
     ]
    }
   ],
   "source": [
    "#Q2.2 Loop through the data and create a list of planets whose mast is greater than 100 x 10^24 kg\n",
    "for k in planet_info:\n",
    "    if planet_info[k] > 100:\n",
    "        print(k)"
   ]
  },
  {
   "cell_type": "code",
   "execution_count": 9,
   "id": "b3ffbed3-de7d-4e31-a8b2-59d5529aa47d",
   "metadata": {},
   "outputs": [
    {
     "name": "stdout",
     "output_type": "stream",
     "text": [
      "Dictionary with Pluto = {'Mercury': 0.33, 'Venus': 4.87, 'Earth': 5.97, 'Mars': 0.642, 'Jupiter': 1898, 'Saturn': 568, 'Uranus': 86.8, 'Neptune': 102, 'Pluto': 0.013}\n"
     ]
    }
   ],
   "source": [
    "# Q2.3 Now add pluto to your dictionary\n",
    "\n",
    "planet_info['Pluto'] = (0.0130)\n",
    "print(\"Dictionary with Pluto =\", planet_info)"
   ]
  },
  {
   "cell_type": "code",
   "execution_count": 10,
   "id": "d98c96d1-f298-4be7-9949-f5298737ccb7",
   "metadata": {},
   "outputs": [],
   "source": [
    "# Part III: Functions"
   ]
  },
  {
   "cell_type": "code",
   "execution_count": 29,
   "id": "33e59f67-770f-422c-a83d-e26553473322",
   "metadata": {},
   "outputs": [
    {
     "name": "stdin",
     "output_type": "stream",
     "text": [
      "Enter temperature in Kelvin or Enter for Default value (273.15):  \n"
     ]
    },
    {
     "name": "stdout",
     "output_type": "stream",
     "text": [
      "The temperature in Celsius: 0.0\n"
     ]
    }
   ],
   "source": [
    "#Q3.1 Write a function to convert temperature from kelvin to celsius and celsius to kelvin\n",
    "#a) kelvin to celsius\n",
    "def kelvin2celsius():\n",
    "    k2c =  float(input(\"Enter temperature in Kelvin or Enter for Default value (273.15): \") or \"273.15\")\n",
    "    celsius = k2c - 273.15\n",
    "    print(\"The temperature in Celsius:\", celsius)\n",
    "#Enter Value or Default set to 273.15\n",
    "kelvin2celsius()"
   ]
  },
  {
   "cell_type": "code",
   "execution_count": 30,
   "id": "35dbb200-3588-4418-8b2f-94fc62d3397e",
   "metadata": {},
   "outputs": [
    {
     "name": "stdin",
     "output_type": "stream",
     "text": [
      "Enter temperature in Celsius Enter for Default(0.00):  \n"
     ]
    },
    {
     "name": "stdout",
     "output_type": "stream",
     "text": [
      "The temperature in Kelvin: 273.15\n"
     ]
    }
   ],
   "source": [
    "#b) celsius to kelvin\n",
    "def celsius2kelvin():\n",
    "    c2k =  float(input(\"Enter temperature in Celsius Enter for Default(0.00): \") or \"0.00\")\n",
    "    kelvin = c2k + 273.15\n",
    "    print(\"The temperature in Kelvin:\", kelvin)\n",
    "#Enter Value or Default set to 0.00\n",
    "celsius2kelvin()"
   ]
  },
  {
   "cell_type": "code",
   "execution_count": 31,
   "id": "34006691-60b0-4134-ae3d-a1878e7b28e4",
   "metadata": {},
   "outputs": [
    {
     "name": "stdin",
     "output_type": "stream",
     "text": [
      "Enter temperature in Celsius or Enter for Default(0.00):  \n"
     ]
    },
    {
     "name": "stdout",
     "output_type": "stream",
     "text": [
      "The temperature in Fahrenheit: 32.0\n"
     ]
    }
   ],
   "source": [
    "#3.2 Write a function to convert temperature to fahrenheit\n",
    "def celsius2fahrenheit():\n",
    "    c2f =  float(input(\"Enter temperature in Celsius or Enter for Default(0.00): \") or \"0.00\")\n",
    "    fahrenheit = (c2f * 9/5) + 32\n",
    "    print(\"The temperature in Fahrenheit:\", fahrenheit)\n",
    "#Enter Value or Default set to 0.00\n",
    "celsius2fahrenheit()"
   ]
  },
  {
   "cell_type": "code",
   "execution_count": 32,
   "id": "d89a400d-360c-40ee-81be-f6d0b37f03fe",
   "metadata": {},
   "outputs": [
    {
     "name": "stdin",
     "output_type": "stream",
     "text": [
      "Enter temperature in Kelvin or Enter for Default value (273.15):  \n"
     ]
    },
    {
     "name": "stdout",
     "output_type": "stream",
     "text": [
      "The temperature in Celsius: 0.0\n"
     ]
    },
    {
     "name": "stdin",
     "output_type": "stream",
     "text": [
      "Enter temperature in Celsius Enter for Default(0.00):  \n"
     ]
    },
    {
     "name": "stdout",
     "output_type": "stream",
     "text": [
      "The temperature in Kelvin: 273.15\n"
     ]
    },
    {
     "name": "stdin",
     "output_type": "stream",
     "text": [
      "Enter temperature in Celsius or Enter for Default(0.00):  \n"
     ]
    },
    {
     "name": "stdout",
     "output_type": "stream",
     "text": [
      "The temperature in Fahrenheit: 32.0\n"
     ]
    }
   ],
   "source": [
    "#3.3 Check that the outputs are sensible\n",
    "\n",
    "#Example using default values - Do not type values, just press enter for default values\n",
    "kelvin2celsius()\n",
    "celsius2kelvin()\n",
    "celsius2fahrenheit()"
   ]
  },
  {
   "cell_type": "code",
   "execution_count": 34,
   "id": "6db702ef-2a1d-462f-ae9b-ba0930200ac9",
   "metadata": {},
   "outputs": [
    {
     "name": "stdin",
     "output_type": "stream",
     "text": [
      "Enter temperature in fahrenheit or default value (32):  \n"
     ]
    },
    {
     "name": "stdout",
     "output_type": "stream",
     "text": [
      "The temperature in Celsius: 0.0\n"
     ]
    }
   ],
   "source": [
    "#3.4 Now write a function that converts from farenheit\n",
    "f2c =  float(input(\"Enter temperature in fahrenheit or default value (32): \") or \"32\")\n",
    "celsius2 = (f2c - 32) * (5/9)\n",
    "print(\"The temperature in Celsius:\", round(celsius2,2))"
   ]
  },
  {
   "cell_type": "code",
   "execution_count": 43,
   "id": "48383fb6-b953-4448-88d5-767adc409def",
   "metadata": {},
   "outputs": [
    {
     "name": "stdout",
     "output_type": "stream",
     "text": [
      "Input Height: \n"
     ]
    },
    {
     "name": "stdin",
     "output_type": "stream",
     "text": [
      "Enter Feet or default value(5 ft):  \n",
      "Inches or default value(3 inch):  \n"
     ]
    },
    {
     "name": "stdout",
     "output_type": "stream",
     "text": [
      "Height(Meters): 1.6\n"
     ]
    }
   ],
   "source": [
    "#3.5 5) Write a function that takes two arguments (feet and inches) and returns height in meters\n",
    "def height_in_meters():\n",
    "    print(\"Input Height: \")\n",
    "    h_ft = float(input(\"Enter Feet or default value(5 ft): \") or \"5\")\n",
    "    h_inch = float(input(\"Inches or default value(3 inch): \") or \"3\")\n",
    "    h_m = (h_ft * 0.3048) + (h_inch * 0.0254)\n",
    "    print(\"Height(Meters):\", round(h_m, 2))\n",
    "\n",
    "height_in_meters()"
   ]
  },
  {
   "cell_type": "code",
   "execution_count": 46,
   "id": "6f792eed-fb03-4f4c-9eaa-2f0bec2e9304",
   "metadata": {},
   "outputs": [
    {
     "name": "stdout",
     "output_type": "stream",
     "text": [
      "Input Height\n"
     ]
    },
    {
     "name": "stdin",
     "output_type": "stream",
     "text": [
      "Enter Meters or default value(1.6m):  \n"
     ]
    },
    {
     "name": "stdout",
     "output_type": "stream",
     "text": [
      "Height: 5 ft 3 in\n"
     ]
    }
   ],
   "source": [
    "#3.6 Write a function takes one argument (height in meters) and returns two arguments (feet and inches)\n",
    "\n",
    "def height_in_ft_inch():\n",
    "    print(\"Input Height\")\n",
    "    h_meter = float(input(\"Enter Meters or default value(1.6m): \") or \"1.6\")\n",
    "    #Convert meters to inch\n",
    "    h_length = (h_meter * 39.3701)\n",
    "    h_ft2 = round(h_length / 12)\n",
    "    h_in2 = h_length - (h_ft2 * 12)\n",
    "    print(\"Height:\", round(h_ft2), \"ft\", round(h_in2), \"in\")\n",
    "\n",
    "height_in_ft_inch()                   "
   ]
  },
  {
   "cell_type": "code",
   "execution_count": 47,
   "id": "9c29fe39-dc2a-4bb1-8237-698af15bdc37",
   "metadata": {},
   "outputs": [
    {
     "name": "stdout",
     "output_type": "stream",
     "text": [
      "Input Height: \n"
     ]
    },
    {
     "name": "stdin",
     "output_type": "stream",
     "text": [
      "Enter Feet or default value(5 ft):  \n",
      "Inches or default value(3 inch):  \n"
     ]
    },
    {
     "name": "stdout",
     "output_type": "stream",
     "text": [
      "Height(Meters): 1.6\n",
      "Input Height\n"
     ]
    },
    {
     "name": "stdin",
     "output_type": "stream",
     "text": [
      "Enter Meters or default value(1.6m):  \n"
     ]
    },
    {
     "name": "stdout",
     "output_type": "stream",
     "text": [
      "Height: 5 ft 3 in\n"
     ]
    }
   ],
   "source": [
    "# 3.7 Verify that the “round trip” conversion from and back to meters is consistent\n",
    "#Example using default values - Do not type values, just press enter for default values\n",
    "height_in_meters()\n",
    "height_in_ft_inch()"
   ]
  }
 ],
 "metadata": {
  "kernelspec": {
   "display_name": "Python 3 (ipykernel)",
   "language": "python",
   "name": "python3"
  },
  "language_info": {
   "codemirror_mode": {
    "name": "ipython",
    "version": 3
   },
   "file_extension": ".py",
   "mimetype": "text/x-python",
   "name": "python",
   "nbconvert_exporter": "python",
   "pygments_lexer": "ipython3",
   "version": "3.9.13"
  }
 },
 "nbformat": 4,
 "nbformat_minor": 5
}
